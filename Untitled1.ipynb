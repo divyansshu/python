{
 "cells": [
  {
   "cell_type": "code",
   "execution_count": 4,
   "id": "2987d1c5-882a-4e82-b71a-6a6eee6dd4d5",
   "metadata": {},
   "outputs": [
    {
     "name": "stdout",
     "output_type": "stream",
     "text": [
      "140705845541304\n",
      "140705845541304\n",
      "140705845541304\n",
      "140705845541336\n",
      "140705845541304\n"
     ]
    }
   ],
   "source": [
    "a = 1\n",
    "b = 1\n",
    "print(id(a))\n",
    "print(id(b))\n",
    "c= 1\n",
    "print(id(c))\n",
    "c= c+1\n",
    "print(id(c))\n",
    "c=c-1\n",
    "print(id(c))\n"
   ]
  },
  {
   "cell_type": "code",
   "execution_count": 8,
   "id": "326e00f0-ff89-493c-95e4-3788dc7b2586",
   "metadata": {},
   "outputs": [
    {
     "name": "stdin",
     "output_type": "stream",
     "text": [
      "enter any number 5\n"
     ]
    },
    {
     "name": "stdout",
     "output_type": "stream",
     "text": [
      "5 * 1  5\n",
      "5 * 2  10\n",
      "5 * 3  15\n",
      "5 * 4  20\n",
      "5 * 5  25\n",
      "5 * 6  30\n",
      "5 * 7  35\n",
      "5 * 8  40\n",
      "5 * 9  45\n"
     ]
    }
   ],
   "source": [
    "a = int(input(\"enter any number\"))\n",
    "for i in range(1, 10):\n",
    "    print(f\"5 * {i} \",a*i)"
   ]
  },
  {
   "cell_type": "code",
   "execution_count": 11,
   "id": "5144bd86-bf3d-4422-bcdb-2c2abd7325c5",
   "metadata": {},
   "outputs": [
    {
     "name": "stdin",
     "output_type": "stream",
     "text": [
      "enter first num 5\n",
      "enter second num 5\n"
     ]
    },
    {
     "name": "stdout",
     "output_type": "stream",
     "text": [
      "10\n",
      "5.0\n",
      "5\n",
      "5\n"
     ]
    }
   ],
   "source": [
    "def calculate(a,b):\n",
    "    print(a+b)\n",
    "    print((a+b)/2)\n",
    "    print(max(a,b))\n",
    "    print(min(a,b))\n",
    "\n",
    "a = int(input(\"enter first num\"))\n",
    "b = int(input(\"enter second num\"))\n",
    "calculate(a,b)"
   ]
  },
  {
   "cell_type": "code",
   "execution_count": null,
   "id": "346dd177-9638-4746-9203-7e3d537dcd18",
   "metadata": {},
   "outputs": [],
   "source": []
  }
 ],
 "metadata": {
  "kernelspec": {
   "display_name": "Python 3 (ipykernel)",
   "language": "python",
   "name": "python3"
  },
  "language_info": {
   "codemirror_mode": {
    "name": "ipython",
    "version": 3
   },
   "file_extension": ".py",
   "mimetype": "text/x-python",
   "name": "python",
   "nbconvert_exporter": "python",
   "pygments_lexer": "ipython3",
   "version": "3.12.4"
  }
 },
 "nbformat": 4,
 "nbformat_minor": 5
}
