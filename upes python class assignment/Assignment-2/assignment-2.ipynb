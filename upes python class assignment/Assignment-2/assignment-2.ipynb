{
 "cells": [
  {
   "cell_type": "markdown",
   "metadata": {},
   "source": [
    "### 1. Basic function Implementation\n",
    "#### Write a function greet that takes two arguments: name (a string) and greeting (a string with a default value of \"Hello\"). The function should return a greeting message."
   ]
  },
  {
   "cell_type": "code",
   "execution_count": 5,
   "metadata": {},
   "outputs": [
    {
     "name": "stdout",
     "output_type": "stream",
     "text": [
      "Hello! Divyanshu\n",
      "Good Morning! Divyanshu\n"
     ]
    }
   ],
   "source": [
    "def greet(name, msg='Hello!'):\n",
    "    return msg+\" \" + name\n",
    "\n",
    "print(greet('Divyanshu'))\n",
    "print(greet('Divyanshu', 'Good Morning!'))"
   ]
  },
  {
   "cell_type": "markdown",
   "metadata": {},
   "source": [
    "### 2. Named Arguments:\n",
    "#### Create a function create_profile that takes arguments for name age , and city as named arguments. The function should return a string like \"Name: Alice, Age: 25, City: New York\". Ensure that the age argument has a default value of 18."
   ]
  },
  {
   "cell_type": "code",
   "execution_count": 9,
   "metadata": {},
   "outputs": [
    {
     "name": "stdout",
     "output_type": "stream",
     "text": [
      "Name: Divyanshu, Age: 21, City: Dehradun\n",
      "Name: Emma, Age: 18, City: Los Angeles\n"
     ]
    }
   ],
   "source": [
    "def create_profile(name,city,age = 18):\n",
    "    return f\"Name: {name}, Age: {age}, City: {city}\"\n",
    "\n",
    "print(create_profile(name='Divyanshu', city = 'Dehradun', age=21))\n",
    "print(create_profile(name='Emma', city='Los Angeles'))\n",
    "    "
   ]
  },
  {
   "cell_type": "markdown",
   "metadata": {},
   "source": [
    "### 3. *args and kwargs\n",
    "#### write a function sum_numbers that takes any number of positional arguments(args) and keyword arguments(kwargs).\n",
    "#### It should: \n",
    "* return the sum of all *args if they are numbers.\n",
    "* return a dictionary of all keyword arguments."
   ]
  },
  {
   "cell_type": "code",
   "execution_count": 6,
   "metadata": {},
   "outputs": [
    {
     "name": "stdout",
     "output_type": "stream",
     "text": [
      "Sum of all non-keyword arguments is: 12\n",
      "Keyword arguments: {'x': 'a', 'y': 'b', 'z': 'c'}\n"
     ]
    }
   ],
   "source": [
    "def sum_numbers(*args, **kwargs):\n",
    "    sum = 0\n",
    "    for arg in args:\n",
    "        if isinstance(arg, (int, float)):\n",
    "            sum += arg\n",
    "    return sum, kwargs\n",
    "\n",
    "result_sum, result_kwargs = sum_numbers(1, 2, '3', 4, 5, x='a', y='b', z='c')\n",
    "print(f\"Sum of all non-keyword arguments is: {result_sum}\")\n",
    "print('Keyword arguments:', result_kwargs)"
   ]
  },
  {
   "cell_type": "markdown",
   "metadata": {},
   "source": [
    "### 4. Lambdas and Map:\n",
    "#### write a function that uses map and a lambda to return a list where each element is squared."
   ]
  },
  {
   "cell_type": "code",
   "execution_count": 9,
   "metadata": {},
   "outputs": [
    {
     "name": "stdout",
     "output_type": "stream",
     "text": [
      "[1, 4, 9, 16, 25, 36, 49, 64]\n"
     ]
    }
   ],
   "source": [
    "def square(nums):\n",
    "    return list(map(lambda num: num**2, nums))\n",
    "\n",
    "nums = [1,2,3,4,5,6,7,8]\n",
    "print(square(nums))"
   ]
  },
  {
   "cell_type": "markdown",
   "metadata": {},
   "source": [
    "### 5. Filter and lambdas:\n",
    "#### write a function that filters out all odd numbers from a list using filter and a lambda function"
   ]
  },
  {
   "cell_type": "code",
   "execution_count": 12,
   "metadata": {},
   "outputs": [
    {
     "name": "stdout",
     "output_type": "stream",
     "text": [
      "[1, 3, 5, 7, 9]\n"
     ]
    }
   ],
   "source": [
    "def odd_nums(nums):\n",
    "    return list(filter(lambda num: num % 2 != 0, nums))\n",
    "\n",
    "nums2 = [1,2,3,4,5,6,7,8,9]\n",
    "print(odd_nums(nums2))"
   ]
  },
  {
   "cell_type": "markdown",
   "metadata": {},
   "source": [
    "### 6. Basic List Comprehension\n",
    "#### Create a list comprehension that takes a list of numbers and returns a list of their squares."
   ]
  },
  {
   "cell_type": "code",
   "execution_count": 1,
   "metadata": {},
   "outputs": [
    {
     "data": {
      "text/plain": [
       "[1, 4, 9, 16, 25, 36]"
      ]
     },
     "execution_count": 1,
     "metadata": {},
     "output_type": "execute_result"
    }
   ],
   "source": [
    "num_list = [1,2,3,4,5,6]\n",
    "square_list = [num**2 for num in num_list]\n",
    "square_list"
   ]
  },
  {
   "cell_type": "markdown",
   "metadata": {},
   "source": [
    "### 7. List comprehension with condition\n",
    "#### Use a list comprehension to create a list of even numbers from 1 to 20"
   ]
  },
  {
   "cell_type": "code",
   "execution_count": 3,
   "metadata": {},
   "outputs": [
    {
     "data": {
      "text/plain": [
       "[2, 4, 6, 8, 10, 12, 14, 16, 18, 20]"
      ]
     },
     "execution_count": 3,
     "metadata": {},
     "output_type": "execute_result"
    }
   ],
   "source": [
    "numbers = [i for i in range(1,21) if i % 2 == 0]\n",
    "numbers"
   ]
  },
  {
   "cell_type": "markdown",
   "metadata": {},
   "source": [
    "### 8. Using os and time Modules:\n",
    "#### Write a function **file_operations** that creates a directory named \"test_folder\" using **os.mkdirs()**. Then pause the execution for 3 seconds using **time.sleep()** ,and finally, delete the directory using **os.rmdir()**. \n"
   ]
  },
  {
   "cell_type": "code",
   "execution_count": 6,
   "metadata": {},
   "outputs": [
    {
     "name": "stdout",
     "output_type": "stream",
     "text": [
      "test_folder directory is created\n",
      "test_folder directory is removed\n"
     ]
    }
   ],
   "source": [
    "import os\n",
    "import time\n",
    "\n",
    "def file_operations():\n",
    "    os.mkdir('test_folder') # creates a directory test_folder\n",
    "    print('test_folder directory is created')\n",
    "    \n",
    "    time.sleep(3) #pauses the execution for 3 seconds\n",
    "    \n",
    "    os.rmdir('test_folder') # deletes a directory \n",
    "    print('test_folder directory is removed')\n",
    "    \n",
    "file_operations()   # Creates \"test_folder\" directory, pauses for 3 seconds, and deletes it \n",
    "    "
   ]
  },
  {
   "cell_type": "markdown",
   "metadata": {},
   "source": [
    "### Importing Specific functions:\n",
    "#### Write a python script that imports only  **sleep** from the **time** module and renames it to **pause**. Use it to pause execution for 2 seconds and print \"Paused Execution...\"."
   ]
  },
  {
   "cell_type": "code",
   "execution_count": 7,
   "metadata": {},
   "outputs": [
    {
     "name": "stdout",
     "output_type": "stream",
     "text": [
      "Paused Execution...\n"
     ]
    }
   ],
   "source": [
    "from time import sleep as pause\n",
    "\n",
    "pause(2) ## pauses the execution for 2 seconds\n",
    "\n",
    "print(\"Paused Execution...\")\n",
    "\n"
   ]
  },
  {
   "cell_type": "code",
   "execution_count": null,
   "metadata": {},
   "outputs": [],
   "source": []
  }
 ],
 "metadata": {
  "kernelspec": {
   "display_name": "Python 3",
   "language": "python",
   "name": "python3"
  },
  "language_info": {
   "codemirror_mode": {
    "name": "ipython",
    "version": 3
   },
   "file_extension": ".py",
   "mimetype": "text/x-python",
   "name": "python",
   "nbconvert_exporter": "python",
   "pygments_lexer": "ipython3",
   "version": "3.12.4"
  }
 },
 "nbformat": 4,
 "nbformat_minor": 2
}
