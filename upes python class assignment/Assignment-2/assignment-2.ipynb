{
 "cells": [
  {
   "cell_type": "markdown",
   "metadata": {},
   "source": [
    "### 1. Basic function Implementation\n",
    "#### Write a function greet that takes two arguments: name (a string) and greeting (a string with a default value of \"Hello\"). The function should return a greeting message."
   ]
  },
  {
   "cell_type": "code",
   "execution_count": 5,
   "metadata": {},
   "outputs": [
    {
     "name": "stdout",
     "output_type": "stream",
     "text": [
      "Hello! Divyanshu\n",
      "Good Morning! Divyanshu\n"
     ]
    }
   ],
   "source": [
    "def greet(name, msg='Hello!'):\n",
    "    return msg+\" \" + name\n",
    "\n",
    "print(greet('Divyanshu'))\n",
    "print(greet('Divyanshu', 'Good Morning!'))"
   ]
  },
  {
   "cell_type": "markdown",
   "metadata": {},
   "source": [
    "### 2. Named Arguments:\n",
    "#### Create a function create_profile that takes arguments for name age , and city as named arguments. The function should return a string like \"Name: Alice, Age: 25, City: New York\". Ensure that the age argument has a default value of 18."
   ]
  },
  {
   "cell_type": "code",
   "execution_count": 9,
   "metadata": {},
   "outputs": [
    {
     "name": "stdout",
     "output_type": "stream",
     "text": [
      "Name: Divyanshu, Age: 21, City: Dehradun\n",
      "Name: Emma, Age: 18, City: Los Angeles\n"
     ]
    }
   ],
   "source": [
    "def create_profile(name,city,age = 18):\n",
    "    return f\"Name: {name}, Age: {age}, City: {city}\"\n",
    "\n",
    "print(create_profile(name='Divyanshu', city = 'Dehradun', age=21))\n",
    "print(create_profile(name='Emma', city='Los Angeles'))\n",
    "    "
   ]
  },
  {
   "cell_type": "markdown",
   "metadata": {},
   "source": [
    "### 3. *args and kwargs\n",
    "#### write a function sum_numbers that takes any number of positional arguments(args) and keyword arguments(kwargs).\n",
    "#### It should: \n",
    "* return the sum of all *args if they are numbers.\n",
    "* return a dictionary of all keyword arguments."
   ]
  },
  {
   "cell_type": "code",
   "execution_count": 6,
   "metadata": {},
   "outputs": [
    {
     "name": "stdout",
     "output_type": "stream",
     "text": [
      "Sum of all non-keyword arguments is: 12\n",
      "Keyword arguments: {'x': 'a', 'y': 'b', 'z': 'c'}\n"
     ]
    }
   ],
   "source": [
    "def sum_numbers(*args, **kwargs):\n",
    "    sum = 0\n",
    "    for arg in args:\n",
    "        if isinstance(arg, (int, float)):\n",
    "            sum += arg\n",
    "    return sum, kwargs\n",
    "\n",
    "result_sum, result_kwargs = sum_numbers(1, 2, '3', 4, 5, x='a', y='b', z='c')\n",
    "print(f\"Sum of all non-keyword arguments is: {result_sum}\")\n",
    "print('Keyword arguments:', result_kwargs)"
   ]
  },
  {
   "cell_type": "markdown",
   "metadata": {},
   "source": [
    "### 4. Lambdas and Map:\n",
    "#### write a function that uses map and a lambda to return a list where each element is squared."
   ]
  },
  {
   "cell_type": "code",
   "execution_count": 9,
   "metadata": {},
   "outputs": [
    {
     "name": "stdout",
     "output_type": "stream",
     "text": [
      "[1, 4, 9, 16, 25, 36, 49, 64]\n"
     ]
    }
   ],
   "source": [
    "def square(nums):\n",
    "    return list(map(lambda num: num**2, nums))\n",
    "\n",
    "nums = [1,2,3,4,5,6,7,8]\n",
    "print(square(nums))"
   ]
  },
  {
   "cell_type": "markdown",
   "metadata": {},
   "source": [
    "### 5. Filter and lambdas:\n",
    "#### write a function that filters out all odd numbers from a list using filter and a lambda function"
   ]
  },
  {
   "cell_type": "code",
   "execution_count": 12,
   "metadata": {},
   "outputs": [
    {
     "name": "stdout",
     "output_type": "stream",
     "text": [
      "[1, 3, 5, 7, 9]\n"
     ]
    }
   ],
   "source": [
    "def odd_nums(nums):\n",
    "    return list(filter(lambda num: num % 2 != 0, nums))\n",
    "\n",
    "nums2 = [1,2,3,4,5,6,7,8,9]\n",
    "print(odd_nums(nums2))"
   ]
  },
  {
   "cell_type": "code",
   "execution_count": null,
   "metadata": {},
   "outputs": [],
   "source": []
  }
 ],
 "metadata": {
  "kernelspec": {
   "display_name": "Python 3",
   "language": "python",
   "name": "python3"
  },
  "language_info": {
   "codemirror_mode": {
    "name": "ipython",
    "version": 3
   },
   "file_extension": ".py",
   "mimetype": "text/x-python",
   "name": "python",
   "nbconvert_exporter": "python",
   "pygments_lexer": "ipython3",
   "version": "3.12.4"
  }
 },
 "nbformat": 4,
 "nbformat_minor": 2
}
