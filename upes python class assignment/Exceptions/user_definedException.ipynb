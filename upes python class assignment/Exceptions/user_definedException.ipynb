{
 "cells": [
  {
   "cell_type": "code",
   "execution_count": 3,
   "metadata": {},
   "outputs": [
    {
     "name": "stdout",
     "output_type": "stream",
     "text": [
      "age must be greater than 18\n"
     ]
    }
   ],
   "source": [
    "class InvalidAgeError(Exception):\n",
    "    def __init__(self, age, errorMessage=\"age must be greater than 18\"):\n",
    "        self.age = age\n",
    "        self.errorMessage = errorMessage\n",
    "        super().__init__(self.errorMessage)\n",
    "        \n",
    "def checkAge(age):\n",
    "    if(age < 18):\n",
    "        raise InvalidAgeError(age)   \n",
    "    else:\n",
    "        print(\"user is eligible for voting\")    \n",
    "       \n",
    "try:\n",
    "    age = int(input(\"enter age\"))\n",
    "    checkAge(age)\n",
    "except InvalidAgeError as e:\n",
    "    print(e)"
   ]
  },
  {
   "cell_type": "code",
   "execution_count": 5,
   "metadata": {},
   "outputs": [
    {
     "name": "stdout",
     "output_type": "stream",
     "text": [
      "marks must be greater than 35 to pass the exam\n"
     ]
    }
   ],
   "source": [
    "class LessMarksError(Exception):\n",
    "    def __init__(self, marks, errorMessage=\"marks must be greater than 35 to pass the exam\"):\n",
    "        self.marks = marks\n",
    "        self.errorMessage = errorMessage\n",
    "        super().__init__(errorMessage)\n",
    "\n",
    "def checkMarks(marks):\n",
    "    if(marks < 35):\n",
    "        raise LessMarksError(marks)\n",
    "    else:\n",
    "        print(f\"{marks} marks are enough for passing the examination\")\n",
    "        \n",
    "try:\n",
    "    marks = int(input(\"enter marks\"))\n",
    "    checkMarks(marks)\n",
    "except LessMarksError as e:\n",
    "    print(e)                    "
   ]
  },
  {
   "cell_type": "code",
   "execution_count": null,
   "metadata": {},
   "outputs": [],
   "source": []
  }
 ],
 "metadata": {
  "kernelspec": {
   "display_name": "Python 3",
   "language": "python",
   "name": "python3"
  },
  "language_info": {
   "codemirror_mode": {
    "name": "ipython",
    "version": 3
   },
   "file_extension": ".py",
   "mimetype": "text/x-python",
   "name": "python",
   "nbconvert_exporter": "python",
   "pygments_lexer": "ipython3",
   "version": "3.12.4"
  }
 },
 "nbformat": 4,
 "nbformat_minor": 2
}
