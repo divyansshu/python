{
 "cells": [
  {
   "cell_type": "code",
   "execution_count": 1,
   "metadata": {},
   "outputs": [
    {
     "name": "stdout",
     "output_type": "stream",
     "text": [
      "first element of array is:  1\n",
      "first element of array is:  2\n",
      "first element of array is:  3\n",
      "Index out of bound error occured\n"
     ]
    }
   ],
   "source": [
    "a = [1,2,3]\n",
    "try:\n",
    "    print('first element of array is: ', a[0])\n",
    "    print('first element of array is: ', a[1])\n",
    "    print('first element of array is: ', a[2])\n",
    "    print('first element of array is: ', a[3])\n",
    "except:\n",
    "    print('Index out of bound error occured')"
   ]
  },
  {
   "cell_type": "code",
   "execution_count": 4,
   "metadata": {},
   "outputs": [
    {
     "name": "stdout",
     "output_type": "stream",
     "text": [
      "NameError handled\n"
     ]
    }
   ],
   "source": [
    "#multiple except clause\n",
    "\n",
    "def fun(a):\n",
    "    if a<4:\n",
    "        b = a/(a-3)\n",
    "    print('value of b', b) \n",
    "try:\n",
    "    fun(3)\n",
    "    fun(4)\n",
    "except ZeroDivisionError:\n",
    "    print('zeroDivisionError handled')\n",
    "except NameError:\n",
    "    print('NameError handled')               "
   ]
  },
  {
   "cell_type": "code",
   "execution_count": 7,
   "metadata": {},
   "outputs": [
    {
     "name": "stdout",
     "output_type": "stream",
     "text": [
      "can't divide by zero\n",
      "This is always executed\n"
     ]
    }
   ],
   "source": [
    "try:\n",
    "    a = 10/0\n",
    "    print(a)\n",
    "except ZeroDivisionError:\n",
    "    print(\"can't divide by zero\")\n",
    "finally:\n",
    "    print(\"This is always executed\")    \n",
    "        "
   ]
  },
  {
   "cell_type": "code",
   "execution_count": 8,
   "metadata": {},
   "outputs": [
    {
     "name": "stdout",
     "output_type": "stream",
     "text": [
      "an exception\n"
     ]
    },
    {
     "ename": "NameError",
     "evalue": "hi there",
     "output_type": "error",
     "traceback": [
      "\u001b[1;31m---------------------------------------------------------------------------\u001b[0m",
      "\u001b[1;31mNameError\u001b[0m                                 Traceback (most recent call last)",
      "Cell \u001b[1;32mIn[8], line 2\u001b[0m\n\u001b[0;32m      1\u001b[0m \u001b[38;5;28;01mtry\u001b[39;00m:\n\u001b[1;32m----> 2\u001b[0m     \u001b[38;5;28;01mraise\u001b[39;00m \u001b[38;5;167;01mNameError\u001b[39;00m(\u001b[38;5;124m\"\u001b[39m\u001b[38;5;124mhi there\u001b[39m\u001b[38;5;124m\"\u001b[39m)\n\u001b[0;32m      3\u001b[0m \u001b[38;5;28;01mexcept\u001b[39;00m:\n\u001b[0;32m      4\u001b[0m     \u001b[38;5;28mprint\u001b[39m(\u001b[38;5;124m\"\u001b[39m\u001b[38;5;124man exception\u001b[39m\u001b[38;5;124m\"\u001b[39m)\n",
      "\u001b[1;31mNameError\u001b[0m: hi there"
     ]
    }
   ],
   "source": [
    "try:\n",
    "    raise NameError(\"hi there\")\n",
    "except:\n",
    "    print(\"an exception\")\n",
    "    raise"
   ]
  },
  {
   "cell_type": "code",
   "execution_count": 10,
   "metadata": {},
   "outputs": [
    {
     "name": "stdout",
     "output_type": "stream",
     "text": [
      "An error occured:  division by zero\n"
     ]
    }
   ],
   "source": [
    "#handling multiple exceptions:\n",
    "try:\n",
    "    a = 5/0\n",
    "    b = int('hello')\n",
    "except (ZeroDivisionError,ValueError) as e:\n",
    "    print('An error occured: ',e)\n",
    "   \n",
    "    "
   ]
  },
  {
   "cell_type": "code",
   "execution_count": 15,
   "metadata": {},
   "outputs": [
    {
     "name": "stdout",
     "output_type": "stream",
     "text": [
      "an error occured:  division by zero\n"
     ]
    }
   ],
   "source": [
    "try:\n",
    "    num = int(input(\"enter a number\"))\n",
    "    result = 100/num\n",
    "    print(result)\n",
    "except ZeroDivisionError as e:\n",
    "    print('an error occured: ', e)\n",
    "except ValueError as e:\n",
    "    print(\"an error occured: \", e)    \n",
    "        "
   ]
  },
  {
   "cell_type": "code",
   "execution_count": 16,
   "metadata": {},
   "outputs": [
    {
     "name": "stdout",
     "output_type": "stream",
     "text": [
      "10.0\n"
     ]
    }
   ],
   "source": [
    "# the else block runs when no exceptions occured in try block\n",
    "try:\n",
    "    num = int(input(\"enter a number\"))\n",
    "    result = 100/num\n",
    "except ZeroDivisionError as e:\n",
    "    print('an error occured: ', e)\n",
    "except ValueError as e:\n",
    "    print(\"an error occured: \", e)\n",
    "else:\n",
    "    print(result)\n",
    "        "
   ]
  },
  {
   "cell_type": "code",
   "execution_count": 19,
   "metadata": {},
   "outputs": [
    {
     "name": "stdout",
     "output_type": "stream",
     "text": [
      "Number cannot be negative\n"
     ]
    }
   ],
   "source": [
    "#raise  exceptions:\n",
    "def checkNumber(num):\n",
    "    if (num < 0):\n",
    "        raise ValueError(\"Number cannot be negative\")\n",
    "    return num\n",
    "try:\n",
    "    checkNumber(-1)\n",
    "except ValueError as e:\n",
    "    print(e)          \n",
    "    "
   ]
  },
  {
   "cell_type": "code",
   "execution_count": 22,
   "metadata": {},
   "outputs": [
    {
     "name": "stdout",
     "output_type": "stream",
     "text": [
      "5.0\n"
     ]
    }
   ],
   "source": [
    "#assert\n",
    "x = 10\n",
    "y = 0\n",
    "\n",
    "assert y != 0, \"Division by zero is not allowed\"\n",
    "result = x/y\n",
    "print(result) # if condition is false then this statement will not execute"
   ]
  },
  {
   "cell_type": "code",
   "execution_count": null,
   "metadata": {},
   "outputs": [],
   "source": []
  }
 ],
 "metadata": {
  "kernelspec": {
   "display_name": "Python 3",
   "language": "python",
   "name": "python3"
  },
  "language_info": {
   "codemirror_mode": {
    "name": "ipython",
    "version": 3
   },
   "file_extension": ".py",
   "mimetype": "text/x-python",
   "name": "python",
   "nbconvert_exporter": "python",
   "pygments_lexer": "ipython3",
   "version": "3.12.4"
  }
 },
 "nbformat": 4,
 "nbformat_minor": 2
}
