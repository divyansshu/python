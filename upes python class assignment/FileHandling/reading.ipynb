{
 "cells": [
  {
   "cell_type": "code",
   "execution_count": 4,
   "metadata": {},
   "outputs": [
    {
     "name": "stdout",
     "output_type": "stream",
     "text": [
      "hello! handling file in python\n",
      "\n"
     ]
    }
   ],
   "source": [
    "with open('file.txt', 'r') as file:\n",
    "    content = file.read() # reads the entire file\n",
    "    content2 = file.read(5) # reads only one first 5 character\n",
    "    print(content)\n",
    "    print(content2)"
   ]
  },
  {
   "cell_type": "code",
   "execution_count": 5,
   "metadata": {},
   "outputs": [
    {
     "name": "stdout",
     "output_type": "stream",
     "text": [
      "hello\n"
     ]
    }
   ],
   "source": [
    "with open('file.txt', 'r') as file2:\n",
    "    content2 = file2.read(5) # reads only one first 5 character\n",
    "    print(content2)"
   ]
  },
  {
   "cell_type": "code",
   "execution_count": 11,
   "metadata": {},
   "outputs": [
    {
     "name": "stdout",
     "output_type": "stream",
     "text": [
      "hello! handling file in python\n",
      "\n",
      "reading a file using readLine() method\n",
      "\n",
      "<class 'str'>\n"
     ]
    }
   ],
   "source": [
    "with open('file.txt', 'r') as file3:\n",
    "    content3 = file3.readline() # reads first line\n",
    "    print(content3)\n",
    "    content3 = file3.readline() # reads the second line\n",
    "    print(content3)\n",
    "print(type(content3))    "
   ]
  },
  {
   "cell_type": "code",
   "execution_count": 10,
   "metadata": {},
   "outputs": [
    {
     "name": "stdout",
     "output_type": "stream",
     "text": [
      "hello! handling file in python\n",
      "reading a file using readLine() method\n",
      "reading all files at once and return them as a list of strings\n",
      "<class 'list'>\n"
     ]
    }
   ],
   "source": [
    "with open('file.txt', 'r') as file4:\n",
    "    lines = file4.readlines()\n",
    "    for line in lines:\n",
    "        print(line.strip())\n",
    "    print(type(lines))    "
   ]
  },
  {
   "cell_type": "code",
   "execution_count": 12,
   "metadata": {},
   "outputs": [],
   "source": [
    "with open('file.txt', 'w') as file5:\n",
    "    file5.write(\"learning how to write into a file\")"
   ]
  },
  {
   "cell_type": "code",
   "execution_count": 13,
   "metadata": {},
   "outputs": [],
   "source": [
    "with open('file2.txt', 'w') as file6:\n",
    "    file6.write(\"learning how to write into a file. If file doesn't exists it creates a new one\")"
   ]
  },
  {
   "cell_type": "code",
   "execution_count": 15,
   "metadata": {},
   "outputs": [],
   "source": [
    "lines2 = ['learning\\n', 'how to write\\n', 'into a file\\n','by providing a list of strings\\n']\n",
    "with open('file3.txt', 'w') as file7:\n",
    "    file7.writelines(lines2)"
   ]
  },
  {
   "cell_type": "code",
   "execution_count": 16,
   "metadata": {},
   "outputs": [],
   "source": [
    "with open('file.txt', 'a') as file8:\n",
    "    file8.write('\\nappended text')\n",
    "    "
   ]
  },
  {
   "cell_type": "code",
   "execution_count": null,
   "metadata": {},
   "outputs": [],
   "source": []
  }
 ],
 "metadata": {
  "kernelspec": {
   "display_name": "Python 3",
   "language": "python",
   "name": "python3"
  },
  "language_info": {
   "codemirror_mode": {
    "name": "ipython",
    "version": 3
   },
   "file_extension": ".py",
   "mimetype": "text/x-python",
   "name": "python",
   "nbconvert_exporter": "python",
   "pygments_lexer": "ipython3",
   "version": "3.12.4"
  }
 },
 "nbformat": 4,
 "nbformat_minor": 2
}
