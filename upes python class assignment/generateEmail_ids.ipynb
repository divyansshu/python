{
 "cells": [
  {
   "cell_type": "markdown",
   "metadata": {},
   "source": [
    "#### write a program to generate email addresses using sap ids\n",
    "##### example output: 12431324134@stu.upes.ac.in\n",
    "##### execute using:\n",
    "*  functions/for loop \n",
    "*  map/filter and lambda\n",
    "* list comprehension"
   ]
  },
  {
   "cell_type": "code",
   "execution_count": 1,
   "metadata": {},
   "outputs": [
    {
     "data": {
      "text/plain": [
       "['123@stu.upes.ac.in',\n",
       " '234324@stu.upes.ac.in',\n",
       " '345345@stu.upes.ac.in',\n",
       " '4545@stu.upes.ac.in']"
      ]
     },
     "execution_count": 1,
     "metadata": {},
     "output_type": "execute_result"
    }
   ],
   "source": [
    "sap_ids = [123,234324,345345,4545]\n",
    "\n",
    "def id_to_email(id):\n",
    "    return f\"{id}@stu.upes.ac.in\"\n",
    "\n",
    "emails = []\n",
    "for id in sap_ids:\n",
    "    email = id_to_email(id)\n",
    "    emails.append(email)\n",
    "\n",
    "emails"
   ]
  },
  {
   "cell_type": "code",
   "execution_count": 2,
   "metadata": {},
   "outputs": [
    {
     "data": {
      "text/plain": [
       "['123@stu.upes.ac.in',\n",
       " '234324@stu.upes.ac.in',\n",
       " '345345@stu.upes.ac.in',\n",
       " '4545@stu.upes.ac.in']"
      ]
     },
     "execution_count": 2,
     "metadata": {},
     "output_type": "execute_result"
    }
   ],
   "source": [
    "#  implementing  Using map\n",
    "\n",
    "list_of_emails = list(map(id_to_email, sap_ids))\n",
    "list_of_emails"
   ]
  },
  {
   "cell_type": "code",
   "execution_count": 3,
   "metadata": {},
   "outputs": [
    {
     "data": {
      "text/plain": [
       "['123@stu.upes.ac.in',\n",
       " '234324@stu.upes.ac.in',\n",
       " '345345@stu.upes.ac.in',\n",
       " '4545@stu.upes.ac.in']"
      ]
     },
     "execution_count": 3,
     "metadata": {},
     "output_type": "execute_result"
    }
   ],
   "source": [
    "# implementing using map and lambda\n",
    "\n",
    "list_of_emails = list(map(lambda id: str(id) + \"@stu.upes.ac.in\", sap_ids))\n",
    "list_of_emails"
   ]
  },
  {
   "cell_type": "code",
   "execution_count": 4,
   "metadata": {},
   "outputs": [
    {
     "data": {
      "text/plain": [
       "['123@stu.upes.ac.in',\n",
       " '234324@stu.upes.ac.in',\n",
       " '345345@stu.upes.ac.in',\n",
       " '4545@stu.upes.ac.in']"
      ]
     },
     "execution_count": 4,
     "metadata": {},
     "output_type": "execute_result"
    }
   ],
   "source": [
    "# implementing using list comprehension\n",
    "list_of_emails = [f\"{id}@stu.upes.ac.in\" for id in sap_ids]\n",
    "list_of_emails"
   ]
  },
  {
   "cell_type": "code",
   "execution_count": null,
   "metadata": {},
   "outputs": [],
   "source": []
  }
 ],
 "metadata": {
  "kernelspec": {
   "display_name": "Python 3",
   "language": "python",
   "name": "python3"
  },
  "language_info": {
   "codemirror_mode": {
    "name": "ipython",
    "version": 3
   },
   "file_extension": ".py",
   "mimetype": "text/x-python",
   "name": "python",
   "nbconvert_exporter": "python",
   "pygments_lexer": "ipython3",
   "version": "3.12.4"
  }
 },
 "nbformat": 4,
 "nbformat_minor": 2
}
