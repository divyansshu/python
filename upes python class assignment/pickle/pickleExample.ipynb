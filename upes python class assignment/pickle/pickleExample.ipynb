{
 "cells": [
  {
   "cell_type": "code",
   "execution_count": 2,
   "metadata": {},
   "outputs": [
    {
     "name": "stdout",
     "output_type": "stream",
     "text": [
      "{'name': 'divyanshu', 'age': 21, 'city': 'dehradun'}\n"
     ]
    }
   ],
   "source": [
    "import pickle\n",
    "\n",
    "data = {\"name\": \"divyanshu\", \"age\": 21, \"city\": \"dehradun\"}\n",
    "\n",
    "#pickling the object\n",
    "with open('data.pickle', 'wb') as file:\n",
    "    pickle.dump(data, file)\n",
    "    \n",
    "\n",
    "#unpickle the object\n",
    "with open('data.pickle','rb') as file:\n",
    "    loaded_data = pickle.load(file)\n",
    "    \n",
    "print(loaded_data)            \n",
    "    \n",
    "    "
   ]
  },
  {
   "cell_type": "code",
   "execution_count": 3,
   "metadata": {},
   "outputs": [
    {
     "name": "stdout",
     "output_type": "stream",
     "text": [
      "serialized data (Bytes):  b'\\x80\\x04\\x952\\x00\\x00\\x00\\x00\\x00\\x00\\x00}\\x94(\\x8c\\x04name\\x94\\x8c\\tdivyanshu\\x94\\x8c\\x03age\\x94K\\x15\\x8c\\x04city\\x94\\x8c\\x08dehradun\\x94u.'\n",
      "deserialized data (object):  {'name': 'divyanshu', 'age': 21, 'city': 'dehradun'}\n"
     ]
    }
   ],
   "source": [
    "serialized_data = pickle.dumps(data)\n",
    "print(\"serialized data (Bytes): \", serialized_data)\n",
    "\n",
    "deserialized_data = pickle.loads(serialized_data)\n",
    "print(\"deserialized data (object): \", deserialized_data)"
   ]
  },
  {
   "cell_type": "code",
   "execution_count": null,
   "metadata": {},
   "outputs": [],
   "source": []
  }
 ],
 "metadata": {
  "kernelspec": {
   "display_name": "Python 3",
   "language": "python",
   "name": "python3"
  },
  "language_info": {
   "codemirror_mode": {
    "name": "ipython",
    "version": 3
   },
   "file_extension": ".py",
   "mimetype": "text/x-python",
   "name": "python",
   "nbconvert_exporter": "python",
   "pygments_lexer": "ipython3",
   "version": "3.12.4"
  }
 },
 "nbformat": 4,
 "nbformat_minor": 2
}
