#Bitwise AND operator
a = 7
b = 4

print(f"{a} & {b} is: ", a&b)


## Bitwise OR operator
print(f"{a} | {b} is: ", a|b)


## Bitwise XOR operator
print(f"{a} ^ {b} is: ", a^b)


## Bitwise NOT operator
#1. write binary
#2. convert into 1's compliment
#3. convert into 2's compliment
#4. convert into decimal
print(f" ~{a} is: ", ~a)


## Bitwise right shift

