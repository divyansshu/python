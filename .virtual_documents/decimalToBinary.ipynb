num = 10
rem =  0
binary = []

while(num != 1):
    rem = num % 2
    binary.append(rem)
    num = num / 2
    
binary.append(num)
print(binary)     

