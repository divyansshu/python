lst = []
print(type(lst))


names = ["kirrish", 'jack','jacob' ,"rose"]
print(names)


mixed_list = ["hello", 3.14, 25, True]
print(mixed_list)


#accessing list elements
fruits = ["apple", "banana", "cherry", "mango", "kiwi"]

print(fruits[0])
print(fruits[2])
print(fruits[-1])


print(fruits[3:])
print(fruits[:3])
print(fruits[0:3]) #mango is not printed 
print(fruits[:-1])
print(fruits[-1:])


fruits[4] = "gauvava"
print(fruits)


## list methods

fruits.append("orange")
print(fruits)


fruits.insert(1,"watermelon") ## list items shift 1 position back to store new element
print(fruits)


fruits.remove("cherry") ##it removes first occurence of an item
print(fruits)


popped_item = fruits.pop() ## remove and return the last element
print(popped_item)
print(fruits)


index = fruits.index("mango") ## return the index of first occurence of an item
print(index)

fruits.insert(5,"mango")
print(fruits)

indx = fruits.index("mango")
print(indx)


print(fruits.count("mango"))


fruits.sort() ## sort list in ascending order
print(fruits)

fruits.remove("mango")
print(fruits)


fruits.reverse()
fruits


fruits.clear() ##remove all items from the list
fruits


## slicing
numbers = [1,2,3,4,5,6,7,8,9,10]
print(numbers[2:5])
print(numbers[:5])
print(numbers[5:])
print(numbers[::]) ## print all elements
print(numbers[::2])
print(numbers[::-2])


## iterating over list
for num in numbers:
    print(num,end=" ")
print()    
## iterating with index
for index, number in enumerate(numbers):
    print(f"index: {index} = number: { number}")



## list comprehension
## List comprehension offers a shorter syntax when you want to create a new 
# list based on the values of an existing list.
lst2 = []
for x in range(10):
    lst2.append(x**2)
print(lst2)    






## basic list comprehension
square = [x**2 for x in range(10)] ## short way to comprehen the list
print(square)



lst3 = []
for i in range(10):
    if i%2 == 0:
        lst.append(i) ## store only even numbers in list
print(lst)     ## print even numbers from a list   


## list comprehension with conditional logic
## The expression is the current item in the iteration, but it is also the outcome,
# which you can manipulate before it ends up like a list item in the new list:
even_list = [num for num in range(10) if num%2==0]
print(even_list)


## Nested list comprehension
list1 = [1,2,3,4]
list2 = ['a', 'b', 'c','d']
pair = [(i,j) for i in list1 for j in list2]
print(pair)



## list comprehension with function calls
words = ['hello','world','python','list','comprehension']
lengths = [len(word) for word in words]
print(lengths)


## nested list
list2 = [[1,2,3,4],[6,7,8,9],[1, 'hello', '3.14', 'c']]
print(list2[0])
print(list2[0][2])
print(list2[1][0:3]) ## slicing



