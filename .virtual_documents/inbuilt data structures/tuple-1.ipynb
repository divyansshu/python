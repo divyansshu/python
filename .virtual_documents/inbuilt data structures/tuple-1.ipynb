## creating a tuple
empty_tuple = ()
print(empty_tuple)
print(type(empty_tuple))


## alternate way to create a list and tuple
lst = list()
print(type(lst))
tpl = tuple()
print(type(tpl))


numbers = tuple([1,2,3,4,5,6]) ## list can be converted into tuple
numbers

list((7,8,9,10)) ## vice versa


## tuple can also contain different data types
mixed_tuple = (1, 'hello', 3.14, True)
print(mixed_tuple)


## accessing tuple elements
print(numbers)
print(numbers[2])
print(numbers[-1])
print(numbers[0:4])
print(numbers[::])
print(numbers[::-1]) ## revserse a tuple


## tuple operations
concat_tuple = numbers + mixed_tuple
print(concat_tuple)


numbers * 3 ## tuple is appended or repeated three times




## immutable nature of tuples
## means we can not change the element after intialization of a tuple
## there's  way first convert the tuple into list and then change the list item
## and then again convert the list into tuple



## tuple methods
print(numbers)
print(numbers.count(1))
print(numbers.index(3)) # print the index of an item



## packing and unpacking tuple
packed_tuple = 1, 'hello', 3.14
print(packed_tuple)

## unpacking a tuple
a,b,c = packed_tuple
print(a)
print(b)
print(c)

## unpacking with *
numbers = (1,2,3,4,5,6)
first, *middle, last = numbers
print(first)
print(middle)
print(last)



### nested tuple
nested_tuple = ((1,2,3), ('a','b','c'), (True, False))
print(nested_tuple[0])
print(nested_tuple[1][2])

## iterating over nested tuple
for sub_tuple in nested_tuple:
    for item in sub_tuple:
        print(item, end=" ")
    print()    



