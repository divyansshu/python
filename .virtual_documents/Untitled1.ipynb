a = 1
b = 1
print(id(a))
print(id(b))
c= 1
print(id(c))
c= c+1
print(id(c))
c=c-1
print(id(c))



a = int(input("enter any number"))
for i in range(1, 10):
    print(f"5 * {i} ",a*i)


def calculate(a,b):
    print(a+b)
    print((a+b)/2)
    print(max(a,b))
    print(min(a,b))

a = int(input("enter first num"))
b = int(input("enter second num"))
calculate(a,b)



