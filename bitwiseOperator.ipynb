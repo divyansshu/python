{
 "cells": [
  {
   "cell_type": "code",
   "execution_count": 3,
   "metadata": {},
   "outputs": [
    {
     "name": "stdout",
     "output_type": "stream",
     "text": [
      "7 & 4 is:  4\n"
     ]
    }
   ],
   "source": [
    "#Bitwise AND operator\n",
    "a = 7\n",
    "b = 4\n",
    "\n",
    "print(f\"{a} & {b} is: \", a&b)"
   ]
  },
  {
   "cell_type": "code",
   "execution_count": 4,
   "metadata": {},
   "outputs": [
    {
     "name": "stdout",
     "output_type": "stream",
     "text": [
      "7 | 4 is:  7\n"
     ]
    }
   ],
   "source": [
    "## Bitwise OR operator\n",
    "print(f\"{a} | {b} is: \", a|b)"
   ]
  },
  {
   "cell_type": "code",
   "execution_count": 5,
   "metadata": {},
   "outputs": [
    {
     "name": "stdout",
     "output_type": "stream",
     "text": [
      "7 ^ 4 is:  3\n"
     ]
    }
   ],
   "source": [
    "## Bitwise XOR operator\n",
    "print(f\"{a} ^ {b} is: \", a^b)"
   ]
  },
  {
   "cell_type": "code",
   "execution_count": 6,
   "metadata": {},
   "outputs": [
    {
     "name": "stdout",
     "output_type": "stream",
     "text": [
      " ~7 is:  -8\n"
     ]
    }
   ],
   "source": [
    "## Bitwise NOT operator\n",
    "#1. write binary\n",
    "#2. convert into 1's compliment\n",
    "#3. convert into 2's compliment\n",
    "#4. convert into decimal\n",
    "print(f\" ~{a} is: \", ~a)"
   ]
  },
  {
   "cell_type": "code",
   "execution_count": 7,
   "metadata": {},
   "outputs": [
    {
     "name": "stdout",
     "output_type": "stream",
     "text": [
      "10 >> 1 =  5\n",
      "-10 >> 1 =  -5\n"
     ]
    }
   ],
   "source": [
    "## Bitwise right shift\n",
    "a = 10\n",
    "c = -10\n",
    "# shift 1 bit to right\n",
    "print(f\"{a} >> 1 = \", a>>1)\n",
    "print(f\"{c} >> 1 = \", c>>1)"
   ]
  },
  {
   "cell_type": "code",
   "execution_count": 8,
   "metadata": {},
   "outputs": [
    {
     "name": "stdout",
     "output_type": "stream",
     "text": [
      "5 << 1 =  10\n",
      "-10 << 1 =  -20\n"
     ]
    }
   ],
   "source": [
    "## Bitwise left shift\n",
    "d = 5\n",
    "c = -10\n",
    "\n",
    "#shift 1 bit to left\n",
    "print(f\"{d} << 1 = \", d << 1)\n",
    "print(f\"{c} << 1 = \", c << 1)"
   ]
  },
  {
   "cell_type": "code",
   "execution_count": null,
   "metadata": {},
   "outputs": [],
   "source": []
  }
 ],
 "metadata": {
  "kernelspec": {
   "display_name": "Python 3 (ipykernel)",
   "language": "python",
   "name": "python3"
  },
  "language_info": {
   "codemirror_mode": {
    "name": "ipython",
    "version": 3
   },
   "file_extension": ".py",
   "mimetype": "text/x-python",
   "name": "python",
   "nbconvert_exporter": "python",
   "pygments_lexer": "ipython3",
   "version": "3.12.4"
  }
 },
 "nbformat": 4,
 "nbformat_minor": 2
}
