{
 "cells": [
  {
   "cell_type": "code",
   "execution_count": 5,
   "metadata": {},
   "outputs": [
    {
     "name": "stdout",
     "output_type": "stream",
     "text": [
      "dog1 is a mammal\n",
      "dog2 is a mammal\n",
      "My name is pug\n",
      "My name is beagle\n"
     ]
    }
   ],
   "source": [
    "class Dog:\n",
    "    #attribute of a class\n",
    "    attr1 = 'mammal'\n",
    "    \n",
    "    #constructor\n",
    "    def __init__(self,name):\n",
    "        self.name = name\n",
    "    \n",
    "    #method of class    \n",
    "    def speak(self):\n",
    "        print('My name is {}'.format(self.name))\n",
    "\n",
    "dog1 = Dog('pug')\n",
    "dog2 = Dog('beagle')\n",
    "\n",
    "print('dog1 is a {}'.format(dog1.__class__.attr1))\n",
    "print('dog2 is a {}'.format(dog2.__class__.attr1))  \n",
    "\n",
    "dog1.speak()\n",
    "dog2.speak()      "
   ]
  }
 ],
 "metadata": {
  "kernelspec": {
   "display_name": "Python 3 (ipykernel)",
   "language": "python",
   "name": "python3"
  }
 },
 "nbformat": 4,
 "nbformat_minor": 5
}
