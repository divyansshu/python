{
 "cells": [
  {
   "cell_type": "code",
   "execution_count": 9,
   "metadata": {},
   "outputs": [
    {
     "name": "stdout",
     "output_type": "stream",
     "text": [
      "1010"
     ]
    }
   ],
   "source": [
    "num = 10\n",
    "rem =  0\n",
    "binary = [] # List to store binary digits\n",
    "\n",
    "while(num > 0):\n",
    "    rem = num % 2\n",
    "    binary.append(rem) ## Append the remainder to the binary list\n",
    "    num = num // 2  # Update num to be the quotient of num divided by 2 (shift right by one bit)\n",
    "\n",
    "# # Reverse the list to get the correct binary representation    \n",
    "binary.reverse()\n",
    "# # Print the binary digits without commas or spaces\n",
    "for bit in binary:\n",
    "    print(bit,end=\"\")  \n"
   ]
  },
  {
   "cell_type": "code",
   "execution_count": null,
   "metadata": {},
   "outputs": [],
   "source": []
  }
 ],
 "metadata": {
  "kernelspec": {
   "display_name": "Python 3 (ipykernel)",
   "language": "python",
   "name": "python3"
  },
  "language_info": {
   "codemirror_mode": {
    "name": "ipython",
    "version": 3
   },
   "file_extension": ".py",
   "mimetype": "text/x-python",
   "name": "python",
   "nbconvert_exporter": "python",
   "pygments_lexer": "ipython3",
   "version": "3.12.4"
  }
 },
 "nbformat": 4,
 "nbformat_minor": 4
}
