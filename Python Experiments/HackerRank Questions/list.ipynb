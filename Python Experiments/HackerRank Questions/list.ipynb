{
 "cells": [
  {
   "cell_type": "code",
   "execution_count": 15,
   "metadata": {},
   "outputs": [
    {
     "name": "stdout",
     "output_type": "stream",
     "text": [
      "Berry\n",
      "Harry\n"
     ]
    }
   ],
   "source": [
    "'''\n",
    "HackerRank Question:\n",
    "Given the names and grades for each student, store them in a nested list and print the name(s) of any student(s) having the second lowest grade.\n",
    "If there are multiple students with the second lowest grade,\n",
    "order their names alphabetically and print each name on a new line. \n",
    "'''\n",
    "\n",
    "students = [['Harry', 10], ['Berry', 10], ['Tina', 8], ['Akriti', 41], ['Harsh', 39]]\n",
    "\n",
    "## extract all grades\n",
    "grades = []\n",
    "for student in students:\n",
    "    grade = student[1]\n",
    "    if grade not in grades:\n",
    "        grades.append(grade)\n",
    "        ## [10,8,41,39]\n",
    "        \n",
    "## sort the grades manually\n",
    "for i in range(len(grades)):\n",
    "    for j in range(i+1, len(grades)):\n",
    "        if grades[i] > grades[j]:\n",
    "            grades[i],grades[j] = grades[j], grades[i]\n",
    "            ##[8,10,39,41]\n",
    "            \n",
    "## find the second lowest grade\n",
    "second_lowest_grade = grades[1]\n",
    "\n",
    "## find all students with the second lowest grade\n",
    "second_lowest_students = []\n",
    "for student in students:\n",
    "    if student[1] == second_lowest_grade:\n",
    "        second_lowest_students.append(student[0])\n",
    "\n",
    "## sort the names alphabetically manually\n",
    "for i in range(len(second_lowest_students)):\n",
    "    for j in range(i+1, len(second_lowest_students)):\n",
    "        if second_lowest_students[i] >  second_lowest_students[j]:\n",
    "            second_lowest_students[i], second_lowest_students[j] = second_lowest_students[j], second_lowest_students[i]\n",
    "\n",
    "## print each name on a new line\n",
    "for student in second_lowest_students:\n",
    "    print(student)                 \n",
    "                \n",
    "            \n",
    "        "
   ]
  },
  {
   "cell_type": "code",
   "execution_count": null,
   "metadata": {},
   "outputs": [],
   "source": []
  }
 ],
 "metadata": {
  "kernelspec": {
   "display_name": "Python 3",
   "language": "python",
   "name": "python3"
  },
  "language_info": {
   "codemirror_mode": {
    "name": "ipython",
    "version": 3
   },
   "file_extension": ".py",
   "mimetype": "text/x-python",
   "name": "python",
   "nbconvert_exporter": "python",
   "pygments_lexer": "ipython3",
   "version": "3.12.4"
  }
 },
 "nbformat": 4,
 "nbformat_minor": 2
}
