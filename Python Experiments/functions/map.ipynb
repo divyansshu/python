{
 "cells": [
  {
   "cell_type": "markdown",
   "metadata": {},
   "source": [
    "#### Applies a given function to each item in an iterable and returns an iterator of the results"
   ]
  },
  {
   "cell_type": "code",
   "execution_count": 1,
   "metadata": {},
   "outputs": [
    {
     "name": "stdout",
     "output_type": "stream",
     "text": [
      "['HELLO', 'WORLD', 'PYTHON']\n"
     ]
    }
   ],
   "source": [
    "## without map\n",
    "def to_upper(word):\n",
    "    return word.upper()\n",
    "\n",
    "words = ['hello', 'world', 'python']\n",
    "upper_words = []\n",
    "\n",
    "for i in words:\n",
    "    upper_words.append(to_upper(i))\n",
    "    \n",
    "print(upper_words)    "
   ]
  },
  {
   "cell_type": "code",
   "execution_count": 2,
   "metadata": {},
   "outputs": [
    {
     "name": "stdout",
     "output_type": "stream",
     "text": [
      "['HELLO', 'WORLD', 'PYTHON']\n"
     ]
    }
   ],
   "source": [
    "## with map\n",
    "upper_words = list(map(to_upper, words))\n",
    "print(upper_words)"
   ]
  },
  {
   "cell_type": "markdown",
   "metadata": {},
   "source": [
    "#### In python 3, the map function returns a map object, which is essentially an iterator, rather than a list. This map object can be converted to a list, set or other iterable type using the list(),set(),etc. functions"
   ]
  },
  {
   "cell_type": "code",
   "execution_count": 2,
   "metadata": {},
   "outputs": [
    {
     "name": "stdout",
     "output_type": "stream",
     "text": [
      "<map object at 0x0000022F609573D0>\n"
     ]
    }
   ],
   "source": [
    "# using map without converting the result\n",
    "def square(num):\n",
    "    return num ** 2\n",
    "\n",
    "numbers = [1,2,3,4,5,6]\n",
    "result = map(square, numbers)\n",
    "print(result)"
   ]
  },
  {
   "cell_type": "code",
   "execution_count": 3,
   "metadata": {},
   "outputs": [
    {
     "name": "stdout",
     "output_type": "stream",
     "text": [
      "[1, 4, 9, 16, 25, 36]\n"
     ]
    }
   ],
   "source": [
    "## conveting the map object to a list\n",
    "result = list(map(square, numbers))\n",
    "print(result)"
   ]
  },
  {
   "cell_type": "code",
   "execution_count": 7,
   "metadata": {},
   "outputs": [
    {
     "name": "stdout",
     "output_type": "stream",
     "text": [
      "[5, 7, 9]\n"
     ]
    }
   ],
   "source": [
    "## add two lists using map and lambda\n",
    "list1 = [1,2,3]\n",
    "list2 = [ 4,5,6]\n",
    "\n",
    "result = list(map(lambda x , y: x+y, list1, list2))\n",
    "print(result)\n"
   ]
  },
  {
   "cell_type": "code",
   "execution_count": null,
   "metadata": {},
   "outputs": [],
   "source": []
  }
 ],
 "metadata": {
  "kernelspec": {
   "display_name": "Python 3",
   "language": "python",
   "name": "python3"
  },
  "language_info": {
   "codemirror_mode": {
    "name": "ipython",
    "version": 3
   },
   "file_extension": ".py",
   "mimetype": "text/x-python",
   "name": "python",
   "nbconvert_exporter": "python",
   "pygments_lexer": "ipython3",
   "version": "3.12.4"
  }
 },
 "nbformat": 4,
 "nbformat_minor": 2
}
