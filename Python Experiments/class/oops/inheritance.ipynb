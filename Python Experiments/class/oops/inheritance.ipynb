{
 "cells": [
  {
   "cell_type": "code",
   "execution_count": 3,
   "metadata": {},
   "outputs": [
    {
     "name": "stdout",
     "output_type": "stream",
     "text": [
      "gaurav False\n",
      "Divyanshu True\n"
     ]
    }
   ],
   "source": [
    "#simple program to demonstrate the inheritance\n",
    "\n",
    "class Person(object):\n",
    "    \n",
    "    def __init__(self,name):\n",
    "        self.name = name\n",
    "\n",
    "    def getName(self):\n",
    "        return self.name\n",
    "    \n",
    "    def isEmployee(self):\n",
    "        return False\n",
    "    \n",
    "class Employee(Person):\n",
    "    def isEmployee(self):\n",
    "        return True\n",
    "        \n",
    "        \n",
    "    \n",
    "emp1 = Person('gaurav')\n",
    "print(emp1.getName(), emp1.isEmployee())\n",
    "\n",
    "emp2 = Employee('Divyanshu')\n",
    "print(emp2.getName(), emp2.isEmployee())\n"
   ]
  },
  {
   "cell_type": "code",
   "execution_count": 9,
   "id": "d66c76d1",
   "metadata": {},
   "outputs": [
    {
     "name": "stdout",
     "output_type": "stream",
     "text": [
      "divyanshu\n",
      "16549\n",
      "50000000\n",
      "developer\n"
     ]
    }
   ],
   "source": [
    "class Person(object):\n",
    "    def __init__(self, name, idNumber):\n",
    "        self.name = name\n",
    "        self.idNumber = idNumber\n",
    "        \n",
    "    # def display(self):\n",
    "    #     print(self.name)\n",
    "    #     print(self.idNumber)\n",
    "        \n",
    "class Employee(Person):\n",
    "    def __init__(self, name, idNumber, salary, post):\n",
    "        self.salary = salary\n",
    "        self.post = post\n",
    "        super().__init__(name,idNumber)\n",
    "        \n",
    "    def employeeDetails(self):\n",
    "        print(self.name)\n",
    "        print(self.idNumber)\n",
    "        print(self.salary)\n",
    "        print(self.post)    \n",
    "        \n",
    "a = Employee('divyanshu',16549, 50000000, 'developer')\n",
    "# a.display()\n",
    "a.employeeDetails()\n",
    "                    "
   ]
  },
  {
   "cell_type": "code",
   "execution_count": 14,
   "id": "044ee0d2",
   "metadata": {},
   "outputs": [
    {
     "name": "stdout",
     "output_type": "stream",
     "text": [
      "divyanshu 21\n",
      "kartikey 21\n"
     ]
    }
   ],
   "source": [
    "class Person(object):\n",
    "    def __init__(self, name, age) -> None:\n",
    "        self.name = name \n",
    "        self.age = age\n",
    "        \n",
    "    def display(self):\n",
    "        print(self.name, self.age)\n",
    "        \n",
    "        \n",
    "class Student(Person):\n",
    "    def __init__(self, name, age) -> None:\n",
    "        super().__init__('kartikey', age)\n",
    "        self.sname = name\n",
    "        self.sage = age\n",
    "        \n",
    "    def displayStudent(self):  \n",
    "        print(self.sname, self.sage)\n",
    "    \n",
    "        \n",
    "stud1 = Student('divyanshu',21)\n",
    "stud1.displayStudent()\n",
    "stud1.display()                 "
   ]
  },
  {
   "cell_type": "code",
   "execution_count": null,
   "id": "d728a339",
   "metadata": {},
   "outputs": [],
   "source": []
  }
 ],
 "metadata": {
  "kernelspec": {
   "display_name": "Python 3 (ipykernel)",
   "language": "python",
   "name": "python3"
  },
  "language_info": {
   "codemirror_mode": {
    "name": "ipython",
    "version": 3
   },
   "file_extension": ".py",
   "mimetype": "text/x-python",
   "name": "python",
   "nbconvert_exporter": "python",
   "pygments_lexer": "ipython3",
   "version": "3.12.4"
  }
 },
 "nbformat": 4,
 "nbformat_minor": 5
}
