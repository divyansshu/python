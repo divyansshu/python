{
 "cells": [
  {
   "cell_type": "code",
   "execution_count": 20,
   "metadata": {},
   "outputs": [
    {
     "name": "stdout",
     "output_type": "stream",
     "text": [
      "Base1\n",
      "Base2\n",
      "Derived\n",
      "hello\n"
     ]
    }
   ],
   "source": [
    "class Base1(object):\n",
    "    def __init__(self) -> None:\n",
    "        self.str1 = 'hello'\n",
    "        print('Base1')\n",
    "        \n",
    "    def printStrs(self):\n",
    "        print(self.str1)   \n",
    "        \n",
    "class Base2(object):\n",
    "    def __init__(self) -> None:\n",
    "        self.str2 = 'world'\n",
    "        print('Base2')\n",
    "      \n",
    "    def printStrs(self):\n",
    "        print(self.str1)     \n",
    "        \n",
    "class Derived(Base1 ,Base2):\n",
    "    def __init__(self) -> None:\n",
    "        Base1.__init__(self)\n",
    "        Base2.__init__(self)\n",
    "        print('Derived')\n",
    "        \n",
    "    # def printStrs(self):\n",
    "    #     print(self.str1, self.str2)\n",
    "        \n",
    "obj1 = Derived()\n",
    "obj1.printStrs()                            "
   ]
  }
 ],
 "metadata": {
  "kernelspec": {
   "display_name": "Python 3 (ipykernel)",
   "language": "python",
   "name": "python3"
  },
  "language_info": {
   "codemirror_mode": {
    "name": "ipython",
    "version": 3
   },
   "file_extension": ".py",
   "mimetype": "text/x-python",
   "name": "python",
   "nbconvert_exporter": "python",
   "pygments_lexer": "ipython3",
   "version": "3.12.4"
  }
 },
 "nbformat": 4,
 "nbformat_minor": 5
}
