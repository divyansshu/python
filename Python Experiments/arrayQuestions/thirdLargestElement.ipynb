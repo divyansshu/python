{
 "cells": [
  {
   "cell_type": "code",
   "execution_count": 5,
   "id": "3cdb4ac8-0114-4067-bc15-aa8df9057efb",
   "metadata": {},
   "outputs": [
    {
     "name": "stdout",
     "output_type": "stream",
     "text": [
      "926 906 906\n",
      "third largest element is:  906\n"
     ]
    }
   ],
   "source": [
    "import array\n",
    "\n",
    "def findThirdLargest(arr):\n",
    "    arr_size = len(arr)\n",
    "    \n",
    "    # There should be atleast three elements\n",
    "    if arr_size < 3:\n",
    "        print(\"Invalid Input\")\n",
    "        return\n",
    "    \n",
    "    third = first = second = float('-inf')\n",
    "    \n",
    "    for i in range(arr_size):\n",
    "        # If current element is greater than first\n",
    "        if arr[i] > first:\n",
    "            third = second\n",
    "            second = first\n",
    "            first = arr[i]\n",
    "        \n",
    "        # If arr[i] is in between first and second then update second\n",
    "        elif arr[i] > second and arr[i] != first:\n",
    "            third = second\n",
    "            second = arr[i]\n",
    "        # If arr[i] is in between second and third then update third\n",
    "        elif arr[i] > third and arr[i] != second and arr[i] != first:\n",
    "            third = arr[i]\n",
    "    print(first, second, third)\n",
    "    return third\n",
    "\n",
    "\n",
    "arr = array.array('i', [855, 450, 132, 359, 233, 825, 604, 481, 262, 337, 720, 525, 652, 300, 906, 219, 926, 906, 293, 864, 817, 498, 30, 639, 661])\n",
    "thirdLargest = findThirdLargest(arr)\n",
    "\n",
    "print('third largest element is: ', thirdLargest)\n"
   ]
  }
 ],
 "metadata": {
  "kernelspec": {
   "display_name": "Python 3 (ipykernel)",
   "language": "python",
   "name": "python3"
  }
 },
 "nbformat": 4,
 "nbformat_minor": 5
}
