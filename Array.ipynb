{
 "cells": [
  {
   "cell_type": "code",
   "execution_count": 33,
   "id": "8a27440f-f639-41c7-a9d2-36b562eb48aa",
   "metadata": {},
   "outputs": [
    {
     "name": "stdout",
     "output_type": "stream",
     "text": [
      "Interger array: [1, 2, 3, 4, 5]\n",
      "the array is  1 2 3 4 5 \n",
      "after adding new element\n",
      "1 2 3 4 5 6 "
     ]
    }
   ],
   "source": [
    "import array\n",
    "\n",
    "arr_Int = array.array('i', [1,2,3,4,5])\n",
    " #here array is converted into list\n",
    "print(\"Interger array:\", arr_Int.tolist())\n",
    "\n",
    "print(\"the array is \", end=\" \")\n",
    "for i in range (0,5):\n",
    "    print(arr_Int[i],end=\" \")\n",
    "print('\\r')\n",
    "\n",
    "arr_Int.append(6)\n",
    "print('after adding new element')\n",
    "for i in range (0,6):\n",
    "    print(arr_Int[i],end= \" \")\n"
   ]
  }
 ],
 "metadata": {
  "kernelspec": {
   "display_name": "Python 3 (ipykernel)",
   "language": "python",
   "name": "python3"
  },
  "language_info": {
   "codemirror_mode": {
    "name": "ipython",
    "version": 3
   },
   "file_extension": ".py",
   "mimetype": "text/x-python",
   "name": "python",
   "nbconvert_exporter": "python",
   "pygments_lexer": "ipython3",
   "version": "3.12.4"
  }
 },
 "nbformat": 4,
 "nbformat_minor": 5
}
