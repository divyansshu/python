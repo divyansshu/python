{
 "cells": [
  {
   "cell_type": "code",
   "execution_count": 8,
   "id": "b08bcc91-de98-47cd-856a-f81fbdc7af97",
   "metadata": {},
   "outputs": [
    {
     "name": "stdout",
     "output_type": "stream",
     "text": [
      "[35, 34, 12, 10, 1, 1]\n",
      "second largest element is:  34\n"
     ]
    }
   ],
   "source": [
    "\n",
    "def findSecondLargest(arr):\n",
    "    size = len(arr)\n",
    "    \n",
    "    if size < 2:\n",
    "        print(\"array must contain more than two elements\")\n",
    "        return -1\n",
    "\n",
    "    arr.sort(reverse = True)\n",
    "    print(arr)\n",
    "    \n",
    "    if arr[0] == arr[-1]:\n",
    "        print('all elements are same')\n",
    "\n",
    "    else:\n",
    "        for i in range(size):\n",
    "            if arr[0] != arr[i]:\n",
    "                return arr[i]\n",
    "   \n",
    "            \n",
    "            \n",
    "arr = [12, 35, 1, 10, 34, 1]\n",
    "\n",
    "print('second largest element is: ',findSecondLargest(arr))\n"
   ]
  },
  {
   "cell_type": "code",
   "execution_count": null,
   "id": "868baef9-dd70-4acb-bbe7-9e615bb85b06",
   "metadata": {},
   "outputs": [],
   "source": []
  }
 ],
 "metadata": {
  "kernelspec": {
   "display_name": "Python 3 (ipykernel)",
   "language": "python",
   "name": "python3"
  }
 },
 "nbformat": 4,
 "nbformat_minor": 5
}
