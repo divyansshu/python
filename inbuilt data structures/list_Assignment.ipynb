{
 "cells": [
  {
   "cell_type": "markdown",
   "metadata": {},
   "source": [
    "# Module 3: Data Structures Assignments\n",
    "## Lesson 3.1: Lists\n",
    "### Assignment 1: Creating and Accessing Lists\n",
    "\n",
    "Create a list of the first 20 positive integers. Print the list.\n",
    "\n",
    "### Assignment 2: Accessing List Elements\n",
    "\n",
    "Print the first, middle, and last elements of the list created in Assignment 1.\n",
    "\n",
    "### Assignment 3: List Slicing\n",
    "\n",
    "Print the first five elements, the last five elements, and the elements from index 5 to 15 of the list created in Assignment 1.\n",
    "\n",
    "### Assignment 4: List Comprehensions\n",
    "\n",
    "Create a new list containing the squares of the first 10 positive integers using a list comprehension. Print the new list.\n",
    "\n",
    "### Assignment 5: Filtering Lists\n",
    "\n",
    "Create a new list containing only the even numbers from the list created in Assignment 1 using a list comprehension. Print the new list.\n",
    "\n",
    "### Assignment 6: List Methods\n",
    "\n",
    "Create a list of random numbers and sort it in ascending and descending order. Remove the duplicates from the list and print the modified list.\n",
    "\n",
    "### Assignment 7: Nested Lists\n",
    "\n",
    "Create a nested list representing a 3x3 matrix and print the matrix. Access and print the element at the second row and third column.\n",
    "\n",
    "### Assignment 8: List of Dictionaries\n",
    "\n",
    "Create a list of dictionaries where each dictionary represents a student with keys 'name' and 'score'. Sort the list of dictionaries by the 'score' in descending order and print the sorted list.\n",
    "\n",
    "### Assignment 9: Matrix Transposition\n",
    "\n",
    "Write a function that takes a 3x3 matrix (nested list) as input and returns its transpose. Print the original and transposed matrices.\n",
    "\n",
    "### Assignment 10: Flattening a Nested List\n",
    "\n",
    "Write a function that takes a nested list and flattens it into a single list. Print the original and flattened lists.\n",
    "\n",
    "### Assignment 11: List Manipulation\n",
    "\n",
    "Create a list of the first 10 positive integers. Remove the elements at indices 2, 4, and 6, and insert the element '99' at index 5. Print the modified list.\n",
    "\n",
    "### Assignment 12: List Zipping\n",
    "\n",
    "Create two lists of the same length. Use the `zip` function to combine these lists into a list of tuples and print the result.\n",
    "\n",
    "### Assignment 13: List Reversal\n",
    "\n",
    "Write a function that takes a list and returns a new list with the elements in reverse order. Print the original and reversed lists.\n",
    "\n",
    "### Assignment 14: List Rotation\n",
    "\n",
    "Write a function that rotates a list by n positions. Print the original and rotated lists.\n",
    "\n",
    "### Assignment 15: List Intersection\n",
    "\n",
    "Write a function that takes two lists and returns a new list containing only the elements that are present in both lists. Print the intersected list."
   ]
  },
  {
   "cell_type": "code",
   "execution_count": 5,
   "id": "c2c90010",
   "metadata": {},
   "outputs": [
    {
     "name": "stdout",
     "output_type": "stream",
     "text": [
      "list before reversing [1, 2, 3, 4, 5, 6]\n",
      "list after reversing [6, 5, 4, 3, 2, 1]\n",
      "[1, 2, 3, 4, 5, 6]\n",
      "[6, 5, 4, 3, 2, 1]\n"
     ]
    }
   ],
   "source": [
    "## 13.  list reverse ordre\n",
    "def reverseList(lst):\n",
    "    print(\"list before reversing\",lst)\n",
    "    \n",
    "    ## inbuilt method\n",
    "    lst.reverse()\n",
    "    print(\"list after reversing\",lst)\n",
    "    \n",
    "    ##slicing method\n",
    "    new_list = lst[::-1]\n",
    "    print(new_list)\n",
    "    \n",
    "    ## without built in function\n",
    "    i = 0\n",
    "    j = len(new_list) - 1\n",
    "    while i < j:\n",
    "        temp = new_list[i]\n",
    "        new_list[i] = new_list[j]\n",
    "        new_list[j] = temp\n",
    "        i = i+1\n",
    "        j = j-1\n",
    "    print(new_list)     \n",
    "\n",
    "\n",
    "lst = [1,2,3,4,5,6]\n",
    "reverseList(lst)"
   ]
  },
  {
   "cell_type": "code",
   "execution_count": 6,
   "id": "62c65424",
   "metadata": {},
   "outputs": [
    {
     "name": "stdout",
     "output_type": "stream",
     "text": [
      "list before rotation after 3 index: [1, 2, 3, 4, 5, 6, 7]\n",
      "list after rotating 3 index:  [5, 6, 7, 1, 2, 3, 4]\n"
     ]
    }
   ],
   "source": [
    "## 14. list rotation with creating extra list\n",
    "def rotateList(list2, n):\n",
    "    print(f\"list before rotation after {n} index:\", list2)\n",
    "    \n",
    "    new_list2 = []\n",
    "    i = 0\n",
    "    for index, item in enumerate(list2):\n",
    "        if(index <= n):\n",
    "            new_list2.append(item)\n",
    "        else:\n",
    "            new_list2.insert(i,item)\n",
    "            i = i+1        \n",
    "                \n",
    "    print(f\"list after rotating {n} index: \", new_list2)\n",
    "\n",
    " \n",
    "list2 = [1,2,3,4,5,6,7]\n",
    "rotateList(list2,3)"
   ]
  },
  {
   "cell_type": "code",
   "execution_count": 14,
   "id": "4a85a8d5",
   "metadata": {},
   "outputs": [
    {
     "name": "stdout",
     "output_type": "stream",
     "text": [
      "[5, 6, 7, 1, 4, 1, 2, 3]\n"
     ]
    }
   ],
   "source": [
    "list3 = [1,2,3,4,5,6,7]\n",
    "k = 3\n",
    "j = k + 1\n",
    "i = 0\n",
    "while i <= k and j < len(list3):\n",
    "    temp = list3[i]\n",
    "    list3[i] = list3[j]\n",
    "    list3[j] = temp\n",
    "    i = i + 1\n",
    "    j = j + 1  \n",
    "print(list3)    "
   ]
  },
  {
   "cell_type": "code",
   "execution_count": null,
   "id": "abf9ba7b",
   "metadata": {},
   "outputs": [],
   "source": []
  }
 ],
 "metadata": {
  "kernelspec": {
   "display_name": "Python 3",
   "language": "python",
   "name": "python3"
  },
  "language_info": {
   "codemirror_mode": {
    "name": "ipython",
    "version": 3
   },
   "file_extension": ".py",
   "mimetype": "text/x-python",
   "name": "python",
   "nbconvert_exporter": "python",
   "pygments_lexer": "ipython3",
   "version": "3.12.4"
  }
 },
 "nbformat": 4,
 "nbformat_minor": 5
}
