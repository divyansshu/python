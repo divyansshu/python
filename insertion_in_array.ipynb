{
 "cells": [
  {
   "cell_type": "code",
   "execution_count": 27,
   "id": "433af71e",
   "metadata": {},
   "outputs": [
    {
     "name": "stdout",
     "output_type": "stream",
     "text": [
      "the array is: 5 10 15 20 25 35 \n",
      "6\n",
      "7\n",
      "[5, 10, 15, 30, 20, 25, 35]\n"
     ]
    }
   ],
   "source": [
    "#program to insert an element in an array\n",
    "import array\n",
    "\n",
    "def insertElement(arr, val, pos):\n",
    "    \n",
    "    size = len(arr)\n",
    "    print(size)\n",
    "    if pos < 0 or pos > size:\n",
    "        raise IndexError('position out of range')\n",
    "\n",
    "    j = 0\n",
    "    newArr = array.array('i', [0]*7)\n",
    "    print(len(newArr))\n",
    "    for i in range(0, size+1):\n",
    "        if i == pos:\n",
    "            newArr[i] = val\n",
    "            \n",
    "        else:\n",
    "            newArr[i] = arr[j]\n",
    "            j = j+1\n",
    "        \n",
    "    return newArr\n",
    "    \n",
    "\n",
    "arr2 = array.array('i', [5,10,15,20,25,35])\n",
    "print('the array is:',end=\" \")\n",
    "for i in range(0,6):\n",
    "    print(arr2[i],end=\" \")\n",
    "print('\\r')\n",
    "\n",
    "newArr = insertElement(arr2, 30, 3)\n",
    "print(newArr.tolist()) #converting to list for easy viewing\n"
   ]
  }
 ],
 "metadata": {
  "kernelspec": {
   "display_name": "Python 3 (ipykernel)",
   "language": "python",
   "name": "python3"
  },
  "language_info": {
   "codemirror_mode": {
    "name": "ipython",
    "version": 3
   },
   "file_extension": ".py",
   "mimetype": "text/x-python",
   "name": "python",
   "nbconvert_exporter": "python",
   "pygments_lexer": "ipython3",
   "version": "3.12.4"
  }
 },
 "nbformat": 4,
 "nbformat_minor": 5
}
