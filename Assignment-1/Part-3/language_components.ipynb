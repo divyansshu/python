{
 "cells": [
  {
   "cell_type": "markdown",
   "metadata": {},
   "source": [
    "# Control flow (if statements and loops)"
   ]
  },
  {
   "cell_type": "markdown",
   "metadata": {},
   "source": [
    "#### write a python program that asks the user for a number and determines whether it is positive, negative, or zero"
   ]
  },
  {
   "cell_type": "code",
   "execution_count": 1,
   "metadata": {},
   "outputs": [
    {
     "name": "stdout",
     "output_type": "stream",
     "text": [
      "5 is greater than 0\n"
     ]
    }
   ],
   "source": [
    "x = int(input(\"enter any number\")) ##taking any number from user\n",
    "if(x > 0):\n",
    "    print(f\"{x} is positive\") ##display if num is positive\n",
    "elif(x < 0):\n",
    "    print(f\"{x} is negative\") ##display if num is negative\n",
    "else:\n",
    "    print(f\"{x} is equal to zero\") ## display if num is zero       "
   ]
  },
  {
   "cell_type": "markdown",
   "metadata": {},
   "source": [
    "#### Implement a loop that continues to ask the user for a number until they enter 'exit'\n",
    "#### use 'break' to exit the loop and 'continue' to prompt for a new number if the input is not 'exit'"
   ]
  },
  {
   "cell_type": "code",
   "execution_count": 4,
   "metadata": {},
   "outputs": [
    {
     "name": "stdout",
     "output_type": "stream",
     "text": [
      "exiting the loop\n"
     ]
    }
   ],
   "source": [
    "while True: ##this loop is an infinte loop\n",
    "    user_input = input(\"enter any number (or type 'exit' to stop)\")\n",
    "    \n",
    "    if(user_input.lower() == 'exit'): ##check if user enter 'exit' in lower case\n",
    "        print(\"exiting the loop\")\n",
    "        break #to exit the loop\n",
    "    \n",
    "    else: ## continue the loop if exit is not entered\n",
    "        num = int(user_input)\n",
    "        print(f\"you entered the number: {num}\")\n",
    "        continue # prompt for a new number if the input is not 'exit'\n",
    "        \n",
    "    "
   ]
  },
  {
   "cell_type": "markdown",
   "metadata": {},
   "source": [
    "# Relational and logical operators "
   ]
  },
  {
   "cell_type": "markdown",
   "metadata": {},
   "source": [
    "#### create a python script that takes two numbers as input and prints whether both numbers are even, odd, or one of each using relational and logical operators."
   ]
  },
  {
   "cell_type": "code",
   "execution_count": 6,
   "metadata": {},
   "outputs": [
    {
     "name": "stdout",
     "output_type": "stream",
     "text": [
      "Both numbers are odd.\n"
     ]
    }
   ],
   "source": [
    "# Take two numbers as input from the user\n",
    "num1 = int(input(\"Enter the first number: \"))\n",
    "num2 = int(input(\"Enter the second number: \"))\n",
    "\n",
    "# Check if both numbers are even\n",
    "if num1 % 2 == 0 and num2 % 2 == 0:\n",
    "    print(\"Both numbers are even.\")\n",
    "# Check if both numbers are odd\n",
    "elif num1 % 2 != 0 and num2 % 2 != 0:\n",
    "    print(\"Both numbers are odd.\")\n",
    "# If neither of the above conditions are true, then one is even and the other is odd\n",
    "else:\n",
    "    print(\"One number is even and the other is odd.\")"
   ]
  },
  {
   "cell_type": "markdown",
   "metadata": {},
   "source": [
    "# For loop and Bitwise operators"
   ]
  },
  {
   "cell_type": "markdown",
   "metadata": {},
   "source": [
    "### write a python program that takes an integer input and prints its binary,octal and hexadecimal equivalents using for loop and bitwise operators."
   ]
  },
  {
   "cell_type": "code",
   "execution_count": 19,
   "metadata": {},
   "outputs": [
    {
     "name": "stdout",
     "output_type": "stream",
     "text": [
      "decimal to Binary conversion of 10 is:  1010\n",
      "decimal to octal conversion of 10 is:  12\n",
      "decimal to hexadecimal conversion of 10 is:  14\n"
     ]
    }
   ],
   "source": [
    "# function to convert into binary, octal, hexadecimal\n",
    "def conversion(num, base):\n",
    "    # Handle the special case where the number is 0\n",
    "    if num == 0:\n",
    "        return '0'\n",
    "    \n",
    "    digits = ''\n",
    "    \n",
    "    # Loop until num is reduced to 0\n",
    "    while(num > 0):\n",
    "        # Find the remainder of num divided by n (current least significant digit)\n",
    "        rem = num % base\n",
    "        # Prepend the remainder to the result string\n",
    "        digits = str(rem) + digits\n",
    "        num = num // base ## Update num to be the quotient of num divided by n (shift right by one digit)\n",
    "    \n",
    "    return digits\n",
    "    \n",
    "\n",
    "# Prompt the user to input a decimal number    \n",
    "num = int(input(\"enter any number\"))\n",
    "# Print the conversions of the number to binary, octal, and hexadecimal\n",
    "print(f\"decimal to Binary conversion of {num} is: \",conversion(num,2))\n",
    "print(f\"decimal to octal conversion of {num} is: \",conversion(num,8))\n",
    "print(f\"decimal to hexadecimal conversion of {num} is: \", conversion(num,6))  \n"
   ]
  },
  {
   "cell_type": "code",
   "execution_count": null,
   "metadata": {},
   "outputs": [],
   "source": []
  }
 ],
 "metadata": {
  "kernelspec": {
   "display_name": "Python 3",
   "language": "python",
   "name": "python3"
  },
  "language_info": {
   "codemirror_mode": {
    "name": "ipython",
    "version": 3
   },
   "file_extension": ".py",
   "mimetype": "text/x-python",
   "name": "python",
   "nbconvert_exporter": "python",
   "pygments_lexer": "ipython3",
   "version": "3.12.4"
  }
 },
 "nbformat": 4,
 "nbformat_minor": 2
}
