{
 "cells": [
  {
   "cell_type": "markdown",
   "metadata": {},
   "source": [
    "# 1. String Operations\n"
   ]
  },
  {
   "cell_type": "markdown",
   "metadata": {},
   "source": [
    "#### Write a python program that takes a user's first and last name as input and prints them in reverse order with a space between them.\n"
   ]
  },
  {
   "cell_type": "code",
   "execution_count": 15,
   "metadata": {},
   "outputs": [
    {
     "name": "stdout",
     "output_type": "stream",
     "text": [
      "divyanshu rawat after reversing\n",
      "tawar uhsnayvid\n"
     ]
    }
   ],
   "source": [
    "name = input(\"enter your name\") # Prompt the user to enter their name\n",
    "\n",
    "fName = \"\" # Initialize an empty string to store the reversed name\n",
    "for i in name:\n",
    "    fName = i + fName #Prepend the current character to the fName \n",
    "print(f\"{name} after reversing\")    \n",
    "print(fName)  # Print the reversed name\n",
    "        \n"
   ]
  },
  {
   "cell_type": "markdown",
   "metadata": {},
   "source": [
    "#### Two String methods and their purpose"
   ]
  },
  {
   "cell_type": "code",
   "execution_count": 21,
   "metadata": {},
   "outputs": [
    {
     "name": "stdout",
     "output_type": "stream",
     "text": [
      "number of occurence is  4\n",
      "5\n"
     ]
    }
   ],
   "source": [
    "# 1.Count() method:\n",
    "## Python String count() function returns the number of occurrences of a substring within a String\n",
    "## string count() function is case sensitive, meaning it will treat ‘a’ and ‘A’ different.\n",
    "str = \"Mississipi\"\n",
    "charCount = str.count('s')\n",
    "print('number of occurence is ',charCount)\n",
    "\n",
    "\n",
    "# 2.find() method:\n",
    "## Python String find() method returns the lowest index or first occurrence of the substring\n",
    "# if it is found in a given string. If it’s not found then it returns -1.\n",
    "word = \"find me if you can\"\n",
    "print(word.find('me'))"
   ]
  },
  {
   "cell_type": "markdown",
   "metadata": {},
   "source": [
    "# 2. Numeric Data types and conversion functions"
   ]
  },
  {
   "cell_type": "markdown",
   "metadata": {},
   "source": [
    "#### write a python program that takes an input number from the user, converts it to different numeric data types(integer,float, and complex) and displays the converted text."
   ]
  },
  {
   "cell_type": "code",
   "execution_count": 27,
   "metadata": {},
   "outputs": [
    {
     "name": "stdout",
     "output_type": "stream",
     "text": [
      "integer value is: 5\n",
      "float value is 5.0\n",
      "complex value is (5+0j)\n"
     ]
    }
   ],
   "source": [
    "val = int(input(\"enter any number\"))\n",
    "\n",
    "#converting the data type into integer\n",
    "_int = int(val)\n",
    "print(f\"integer value is: {_int}\")\n",
    "\n",
    "#converting the data into float\n",
    "_float = float(val)\n",
    "print(f\"float value is {_float}\")\n",
    "\n",
    "#converting the data into complex\n",
    "_complex = complex(val)\n",
    "print(f\"complex value is {_complex}\")\n",
    "\n",
    "\n",
    "# Difference between integer , float and complex data types\n",
    "\n",
    "# 1. Integer (int):\n",
    "# Represents whole numbers without any fractional or decimal part. \n",
    "# They can be positive, negative, or zero.\n",
    "# Example: 5, -42, 0\n",
    "\n",
    "# => Characteristics:\n",
    "# No decimal point.\n",
    "# Precision is unlimited (i.e., Python integers can grow as large as the memory allows).\n",
    "# Common operations: addition, subtraction, multiplication, division, modulo, exponentiation.\n",
    "\n",
    "\n",
    "# 2. Float (float):\n",
    "# Represents real numbers that include a decimal point. \n",
    "# These numbers have a fractional part and are used for more precise calculations.\n",
    "# Example: 5.0, -3.14, 0.001\n",
    "\n",
    "# => Characteristics:\n",
    "# Contains a decimal point to separate the whole part from the fractional part.\n",
    "# Floating-point numbers are represented in Python using double precision (64-bit) according to the IEEE 754 standard.\n",
    "# Precision is limited by the floating-point representation (up to about 15-17 significant digits).\n",
    "# Common operations: similar to integers, but also include operations with decimals and real numbers.\n",
    "\n",
    "\n",
    "# 3. Complex (complex):\n",
    "# Represents complex numbers, which have a real part and an imaginary part.\n",
    "# The imaginary part is indicated by a j or J.\n",
    "# Example: 3 + 4j, -2.5 + 3.1j\n",
    "\n",
    "# => Characteristics:\n",
    "# Composed of a real part (an int or float) and an imaginary part (a float) which is multiplied by j (the square root of -1).\n",
    "# Used in mathematics and engineering to represent complex numbers.\n",
    "# Common operations: addition, subtraction, multiplication, division, and other operations on complex numbers.\n"
   ]
  },
  {
   "cell_type": "markdown",
   "metadata": {},
   "source": [
    "# 3. Simple Input and Output"
   ]
  },
  {
   "cell_type": "markdown",
   "metadata": {},
   "source": [
    "#### create a python script that calculates the area of rectangle. The script should:\n",
    "##### * Prompt the user to enter the length and width of a rectangle.\n",
    "##### * calculate the area\n",
    "##### * Display the result using print() function\n",
    "##### * modify the rectangle area program to format the output so that it displays the area with two decimal places"
   ]
  },
  {
   "cell_type": "code",
   "execution_count": 33,
   "metadata": {},
   "outputs": [
    {
     "name": "stdout",
     "output_type": "stream",
     "text": [
      "area of rectangle with length 3.2456 and width 1.2345 is: 4.01\n"
     ]
    }
   ],
   "source": [
    "##asking length and width from user\n",
    "len = float(input(\"enter the length of a rectangle\"))\n",
    "wid = float(input(\"enter the width of a rectangle\"))\n",
    "\n",
    "## calculating area of rectangle\n",
    "area = len * wid\n",
    "# format area upto two decimal places\n",
    "format_area = \"{:.2f}\".format(area)\n",
    "print(f\"area of rectangle with length {len} and width {wid} is: {format_area}\")"
   ]
  },
  {
   "cell_type": "markdown",
   "metadata": {},
   "source": [
    "### The % method and print() function\n",
    "#### write a python script that takes three numbers as input and prints their average using the % method for string formatting.\n"
   ]
  },
  {
   "cell_type": "code",
   "execution_count": 34,
   "metadata": {},
   "outputs": [
    {
     "name": "stdout",
     "output_type": "stream",
     "text": [
      "The average of the three numbers is: 3.50\n"
     ]
    }
   ],
   "source": [
    "# Take three numbers as input from the user\n",
    "x = float(input(\"Enter the first number: \"))\n",
    "y = float(input(\"Enter the second number: \"))\n",
    "z = float(input(\"Enter the third number: \"))\n",
    "\n",
    "# Calculate the average\n",
    "avg = (x + y + z) / 3\n",
    "\n",
    "# Print the average using the % method for string formatting\n",
    "print(\"The average of the three numbers is: %.2f\" % avg)"
   ]
  }
 ],
 "metadata": {
  "kernelspec": {
   "display_name": "Python 3",
   "language": "python",
   "name": "python3"
  },
  "language_info": {
   "codemirror_mode": {
    "name": "ipython",
    "version": 3
   },
   "file_extension": ".py",
   "mimetype": "text/x-python",
   "name": "python",
   "nbconvert_exporter": "python",
   "pygments_lexer": "ipython3",
   "version": "3.12.4"
  }
 },
 "nbformat": 4,
 "nbformat_minor": 2
}
